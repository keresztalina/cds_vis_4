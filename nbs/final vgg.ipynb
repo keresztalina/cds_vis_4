{
 "cells": [
  {
   "attachments": {},
   "cell_type": "markdown",
   "metadata": {},
   "source": [
    "# LOAD PACKAGES"
   ]
  },
  {
   "cell_type": "code",
   "execution_count": 1,
   "metadata": {},
   "outputs": [
    {
     "name": "stderr",
     "output_type": "stream",
     "text": [
      "2023-05-17 10:26:29.705006: I tensorflow/tsl/cuda/cudart_stub.cc:28] Could not find cuda drivers on your machine, GPU will not be used.\n",
      "2023-05-17 10:26:29.754872: I tensorflow/tsl/cuda/cudart_stub.cc:28] Could not find cuda drivers on your machine, GPU will not be used.\n",
      "2023-05-17 10:26:29.756132: I tensorflow/core/platform/cpu_feature_guard.cc:182] This TensorFlow binary is optimized to use available CPU instructions in performance-critical operations.\n",
      "To enable the following instructions: AVX2 AVX512F FMA, in other operations, rebuild TensorFlow with the appropriate compiler flags.\n",
      "2023-05-17 10:26:30.480635: W tensorflow/compiler/tf2tensorrt/utils/py_utils.cc:38] TF-TRT Warning: Could not find TensorRT\n"
     ]
    }
   ],
   "source": [
    "# basic tools\n",
    "import os\n",
    "import pandas as pd\n",
    "import numpy as np\n",
    "\n",
    "# image preprocessing\n",
    "import cv2\n",
    "\n",
    "# tensorflow tools\n",
    "import tensorflow as tf\n",
    "\n",
    "# image processsing\n",
    "from tensorflow.keras.preprocessing.image import (load_img,\n",
    "                                                  img_to_array,\n",
    "                                                  ImageDataGenerator)\n",
    "# VGG16 model\n",
    "from tensorflow.keras.applications.vgg16 import (preprocess_input,\n",
    "                                                 decode_predictions,\n",
    "                                                 VGG16)\n",
    "\n",
    "# layers\n",
    "from tensorflow.keras.layers import (Flatten, \n",
    "                                     Dense, \n",
    "                                     Dropout, \n",
    "                                     BatchNormalization)\n",
    "# generic model object\n",
    "from tensorflow.keras.models import Model\n",
    "\n",
    "# optimizers\n",
    "from tensorflow.keras.optimizers.schedules import ExponentialDecay\n",
    "from tensorflow.keras.optimizers import SGD\n",
    "\n",
    "# early stopping\n",
    "from tensorflow.keras.callbacks import EarlyStopping\n",
    "\n",
    "#scikit-learn\n",
    "from sklearn.metrics import classification_report\n",
    "\n",
    "# for plotting\n",
    "import matplotlib.pyplot as plt"
   ]
  },
  {
   "attachments": {},
   "cell_type": "markdown",
   "metadata": {},
   "source": [
    "# FUNCTIONS"
   ]
  },
  {
   "cell_type": "code",
   "execution_count": 2,
   "metadata": {},
   "outputs": [],
   "source": [
    "# courtesy of Ross\n",
    "def plot_history(H, epochs):\n",
    "    plt.style.use(\"seaborn-colorblind\")\n",
    "\n",
    "    plt.figure(figsize=(12,6))\n",
    "    \n",
    "    plt.subplot(1,2,1)\n",
    "    plt.plot(\n",
    "        np.arange(0, epochs), \n",
    "        H.history[\"loss\"], \n",
    "        label = \"train_loss\")\n",
    "    plt.plot(\n",
    "        np.arange(0, epochs), \n",
    "        H.history[\"val_loss\"], \n",
    "        label = \"val_loss\", \n",
    "        linestyle = \":\")\n",
    "    plt.title(\"Loss curve\")\n",
    "    plt.xlabel(\"Epoch\")\n",
    "    plt.ylabel(\"Loss\")\n",
    "    plt.tight_layout()\n",
    "    plt.legend()\n",
    "\n",
    "    plt.subplot(1,2,2)\n",
    "    plt.plot(\n",
    "        np.arange(0, epochs), \n",
    "        H.history[\"accuracy\"], \n",
    "        label = \"train_acc\")\n",
    "    plt.plot(\n",
    "        np.arange(0, epochs), \n",
    "        H.history[\"val_accuracy\"], \n",
    "        label = \"val_acc\", \n",
    "        linestyle = \":\")\n",
    "    plt.title(\"Accuracy curve\")\n",
    "    plt.xlabel(\"Epoch\")\n",
    "    plt.ylabel(\"Accuracy\")\n",
    "    plt.tight_layout()\n",
    "    plt.legend()\n",
    "\n",
    "    plt.show()"
   ]
  },
  {
   "attachments": {},
   "cell_type": "markdown",
   "metadata": {},
   "source": [
    "# CONFIGURE DIRECTORIES"
   ]
  },
  {
   "cell_type": "code",
   "execution_count": 3,
   "metadata": {},
   "outputs": [],
   "source": [
    "# OVERALL LOCATION OF DATA\n",
    "base_dir = os.path.join(\n",
    "    \"..\",\n",
    "    \"..\",\n",
    "    \"data\")\n",
    "\n",
    "# LOCATION OF TEST, TRAIN AND VALIDATION FOLDERS\n",
    "train_dir = os.path.join(\n",
    "    base_dir,\n",
    "    \"train\")\n",
    "val_dir = os.path.join(\n",
    "    base_dir,\n",
    "    \"val\")\n",
    "test_dir = os.path.join(\n",
    "    base_dir,\n",
    "    \"test\")\n",
    "\n",
    "# LOCATION OF CATEGORIES WITHIN TRAIN SPLIT\n",
    "train_coast_dir = os.path.join(\n",
    "    train_dir,\n",
    "    \"Coast\")\n",
    "train_desert_dir = os.path.join(\n",
    "    train_dir,\n",
    "    \"Desert\")\n",
    "train_forest_dir = os.path.join(\n",
    "    train_dir,\n",
    "    \"Forest\")\n",
    "train_glacier_dir = os.path.join(\n",
    "    train_dir,\n",
    "    \"Glacier\")\n",
    "train_mountain_dir = os.path.join(\n",
    "    train_dir,\n",
    "    \"Mountain\")\n",
    "\n",
    "# LOCATION OF CATEGORIES WITHIN VALIDATION SPLIT\n",
    "val_coast_dir = os.path.join(\n",
    "    val_dir,\n",
    "    \"Coast\")\n",
    "val_desert_dir = os.path.join(\n",
    "    val_dir,\n",
    "    \"Desert\")\n",
    "val_forest_dir = os.path.join(\n",
    "    val_dir,\n",
    "    \"Forest\")\n",
    "val_glacier_dir = os.path.join(\n",
    "    val_dir,\n",
    "    \"Glacier\")\n",
    "val_mountain_dir = os.path.join(\n",
    "    val_dir,\n",
    "    \"Mountain\")\n",
    "\n",
    "# LOCATION OF CATEGORIES WITHIN TEST SPLIT\n",
    "test_coast_dir = os.path.join(\n",
    "    test_dir,\n",
    "    \"Coast\")\n",
    "test_desert_dir = os.path.join(\n",
    "    test_dir,\n",
    "    \"Desert\")\n",
    "test_forest_dir = os.path.join(\n",
    "    test_dir,\n",
    "    \"Forest\")\n",
    "test_glacier_dir = os.path.join(\n",
    "    test_dir,\n",
    "    \"Glacier\")\n",
    "test_mountain_dir = os.path.join(\n",
    "    test_dir,\n",
    "    \"Mountain\")"
   ]
  },
  {
   "attachments": {},
   "cell_type": "markdown",
   "metadata": {},
   "source": [
    "# COUNT NUMBER OF IMAGES"
   ]
  },
  {
   "cell_type": "code",
   "execution_count": 33,
   "metadata": {},
   "outputs": [],
   "source": [
    "# IMAGES IN CATEGORIES IN TRAINING SPLIT\n",
    "num_train_coast = len(\n",
    "    os.listdir(\n",
    "        train_coast_dir))\n",
    "num_train_desert = len(\n",
    "    os.listdir(\n",
    "        train_desert_dir))\n",
    "num_train_forest = len(\n",
    "    os.listdir(\n",
    "        train_forest_dir))\n",
    "num_train_glacier = len(\n",
    "    os.listdir(\n",
    "        train_glacier_dir))\n",
    "num_train_mountain = len(\n",
    "    os.listdir(\n",
    "        train_mountain_dir))\n",
    "\n",
    "# IMAGES IN CATEGORIES IN VALIDATION SPLIT\n",
    "num_val_coast = len(\n",
    "    os.listdir(\n",
    "        val_coast_dir))\n",
    "num_val_desert = len(\n",
    "    os.listdir(\n",
    "        val_desert_dir))\n",
    "num_val_forest = len(\n",
    "    os.listdir(\n",
    "        val_forest_dir))\n",
    "num_val_glacier = len(\n",
    "    os.listdir(\n",
    "        val_glacier_dir))\n",
    "num_val_mountain = len(\n",
    "    os.listdir(\n",
    "        val_mountain_dir))\n",
    "\n",
    "# IMAGES IN CATEGORIES IN TEST SPLIT\n",
    "num_test_coast = len(\n",
    "    os.listdir(\n",
    "        test_coast_dir))\n",
    "num_test_desert = len(\n",
    "    os.listdir(\n",
    "        test_desert_dir))\n",
    "num_test_forest = len(\n",
    "    os.listdir(\n",
    "        test_forest_dir))\n",
    "num_test_glacier = len(\n",
    "    os.listdir(\n",
    "        test_glacier_dir))\n",
    "num_test_mountain = len(\n",
    "    os.listdir(\n",
    "        test_mountain_dir))\n",
    "\n",
    "num_train = num_train_coast + num_train_desert + num_train_forest + num_train_glacier + num_train_mountain\n",
    "num_val = num_val_coast + num_val_desert + num_val_forest + num_val_glacier + num_val_mountain\n",
    "num_test = num_test_coast + num_test_desert + num_test_forest + num_test_glacier + num_test_mountain\n",
    "\n",
    "num_total = num_train + num_val + num_test"
   ]
  },
  {
   "cell_type": "code",
   "execution_count": 34,
   "metadata": {},
   "outputs": [
    {
     "name": "stdout",
     "output_type": "stream",
     "text": [
      "TOTAL IMAGES: 12000\n",
      "...\n",
      "TOTAL TRAIN: 10000\n",
      "Coast: 2000\n",
      "Desert: 2000\n",
      "Forest: 2000\n",
      "Glacier: 2000\n",
      "Mountain: 2000\n",
      "...\n",
      "TOTAL VALIDATION: 1500\n",
      "Coast: 300\n",
      "Desert: 300\n",
      "Forest: 300\n",
      "Glacier: 300\n",
      "Mountain: 300\n",
      "...\n",
      "TOTAL TEST: 500\n",
      "Coast: 100\n",
      "Desert: 100\n",
      "Forest: 100\n",
      "Glacier: 100\n",
      "Mountain: 100\n"
     ]
    }
   ],
   "source": [
    "print(\"TOTAL IMAGES:\", num_total)\n",
    "print(\"...\")\n",
    "print(\"TOTAL TRAIN:\", num_train)\n",
    "print(\"Coast:\", num_train_coast)\n",
    "print(\"Desert:\", num_train_desert)\n",
    "print(\"Forest:\", num_train_forest)\n",
    "print(\"Glacier:\", num_train_glacier)\n",
    "print(\"Mountain:\", num_train_mountain)\n",
    "print(\"...\")\n",
    "print(\"TOTAL VALIDATION:\", num_val)\n",
    "print(\"Coast:\", num_val_coast)\n",
    "print(\"Desert:\", num_val_desert)\n",
    "print(\"Forest:\", num_val_forest)\n",
    "print(\"Glacier:\", num_val_glacier)\n",
    "print(\"Mountain:\", num_val_mountain)\n",
    "print(\"...\")\n",
    "print(\"TOTAL TEST:\", num_test)\n",
    "print(\"Coast:\", num_test_coast)\n",
    "print(\"Desert:\", num_test_desert)\n",
    "print(\"Forest:\", num_test_forest)\n",
    "print(\"Glacier:\", num_test_glacier)\n",
    "print(\"Mountain:\", num_test_mountain)\n"
   ]
  },
  {
   "attachments": {},
   "cell_type": "markdown",
   "metadata": {},
   "source": [
    "# IMAGE PREPROCESSING"
   ]
  },
  {
   "cell_type": "code",
   "execution_count": 35,
   "metadata": {},
   "outputs": [],
   "source": [
    "# SOME NECESSARY VARIABLES\n",
    "IMG_SHAPE = 224\n",
    "batch_size = 128"
   ]
  },
  {
   "cell_type": "code",
   "execution_count": 36,
   "metadata": {},
   "outputs": [],
   "source": [
    "# DEFINE DATA GENERATOR\n",
    "# Normalize image values.\n",
    "# Allow for horizontal flipping and rotation (data augmentation).\n",
    "datagen = ImageDataGenerator(\n",
    "    rescale = 1./255, \n",
    "    horizontal_flip = True, \n",
    "    rotation_range = 20,\n",
    "    preprocessing_function = lambda x: tf.image.resize(\n",
    "        x, \n",
    "        (IMG_SHAPE, IMG_SHAPE)))"
   ]
  },
  {
   "cell_type": "code",
   "execution_count": 37,
   "metadata": {},
   "outputs": [
    {
     "name": "stdout",
     "output_type": "stream",
     "text": [
      "Found 10000 images belonging to 5 classes.\n"
     ]
    }
   ],
   "source": [
    "# TRAINING - FLOW FROM FOLDER\n",
    "train_data_gen = datagen.flow_from_directory(\n",
    "    directory = train_dir,\n",
    "    batch_size = batch_size,\n",
    "    target_size = (IMG_SHAPE, IMG_SHAPE),\n",
    "    shuffle = True,\n",
    "    class_mode = 'categorical')"
   ]
  },
  {
   "cell_type": "code",
   "execution_count": 38,
   "metadata": {},
   "outputs": [
    {
     "name": "stdout",
     "output_type": "stream",
     "text": [
      "Found 1500 images belonging to 5 classes.\n"
     ]
    }
   ],
   "source": [
    "# VALIDATION - FLOW FROM FOLDER\n",
    "val_data_gen = datagen.flow_from_directory(\n",
    "    directory = val_dir,\n",
    "    batch_size = batch_size,\n",
    "    target_size = (IMG_SHAPE, IMG_SHAPE),\n",
    "    shuffle = True,\n",
    "    class_mode = 'categorical')"
   ]
  },
  {
   "cell_type": "code",
   "execution_count": 39,
   "metadata": {},
   "outputs": [
    {
     "name": "stdout",
     "output_type": "stream",
     "text": [
      "Found 500 images belonging to 5 classes.\n"
     ]
    }
   ],
   "source": [
    "# TEST - FLOW FROM FOLDER\n",
    "test_data_gen = datagen.flow_from_directory(\n",
    "    directory = test_dir,\n",
    "    batch_size = batch_size,\n",
    "    target_size = (IMG_SHAPE, IMG_SHAPE),\n",
    "    shuffle = False,\n",
    "    class_mode = 'categorical')"
   ]
  },
  {
   "attachments": {},
   "cell_type": "markdown",
   "metadata": {},
   "source": [
    "# LOAD MODEL"
   ]
  },
  {
   "cell_type": "code",
   "execution_count": 4,
   "metadata": {},
   "outputs": [],
   "source": [
    "# load model without classifier layers\n",
    "model = VGG16(\n",
    "    include_top = False, \n",
    "    pooling = 'avg',\n",
    "    input_shape = (224, 224, 3))"
   ]
  },
  {
   "cell_type": "code",
   "execution_count": 5,
   "metadata": {},
   "outputs": [],
   "source": [
    "# mark loaded layers as not trainable\n",
    "for layer in model.layers:\n",
    "    layer.trainable = False"
   ]
  },
  {
   "cell_type": "code",
   "execution_count": 6,
   "metadata": {},
   "outputs": [],
   "source": [
    "# add new classifier layers\n",
    "flat1 = Flatten()(model.layers[-1].output)\n",
    "bn = BatchNormalization()(flat1)\n",
    "class1 = Dense(\n",
    "    256, \n",
    "    activation = 'relu')(bn)\n",
    "class2 = Dense(\n",
    "    128, \n",
    "    activation = 'relu')(class1)\n",
    "output = Dense(\n",
    "    5, \n",
    "    activation = 'softmax')(class2)"
   ]
  },
  {
   "cell_type": "code",
   "execution_count": 7,
   "metadata": {},
   "outputs": [],
   "source": [
    "# define new model\n",
    "model = Model(\n",
    "    inputs = model.inputs, \n",
    "    outputs = output)"
   ]
  },
  {
   "cell_type": "code",
   "execution_count": 8,
   "metadata": {},
   "outputs": [],
   "source": [
    "# configure learning rate\n",
    "lr_schedule = tf.keras.optimizers.schedules.ExponentialDecay(\n",
    "    initial_learning_rate = 0.01,\n",
    "    decay_steps = 10000,\n",
    "    decay_rate = 0.9)\n",
    "sgd = SGD(learning_rate = lr_schedule)"
   ]
  },
  {
   "cell_type": "code",
   "execution_count": 9,
   "metadata": {},
   "outputs": [],
   "source": [
    "# compile model\n",
    "model.compile(\n",
    "    optimizer = sgd,\n",
    "    loss = 'categorical_crossentropy',\n",
    "    metrics = ['accuracy'])"
   ]
  },
  {
   "cell_type": "code",
   "execution_count": 19,
   "metadata": {},
   "outputs": [],
   "source": [
    "summary_path = os.path.join(\n",
    "    \"..\",\n",
    "    \"out\",\n",
    "    \"model_summary.txt\"\n",
    ")"
   ]
  },
  {
   "cell_type": "code",
   "execution_count": 21,
   "metadata": {},
   "outputs": [],
   "source": [
    "def save_summary(s):\n",
    "    with open(summary_path, 'a') as f:\n",
    "        print(s, file = f)\n"
   ]
  },
  {
   "cell_type": "code",
   "execution_count": 22,
   "metadata": {},
   "outputs": [],
   "source": [
    "# summarize\n",
    "model.summary(print_fn = save_summary)"
   ]
  },
  {
   "cell_type": "code",
   "execution_count": 47,
   "metadata": {},
   "outputs": [],
   "source": [
    "# early stopping\n",
    "early_stop = EarlyStopping(\n",
    "    monitor = 'val_loss', \n",
    "    patience = 5,  \n",
    "    mode = 'min', \n",
    "    restore_best_weights = True)"
   ]
  },
  {
   "cell_type": "code",
   "execution_count": 48,
   "metadata": {},
   "outputs": [
    {
     "name": "stdout",
     "output_type": "stream",
     "text": [
      "Epoch 1/20\n"
     ]
    },
    {
     "name": "stderr",
     "output_type": "stream",
     "text": [
      "2023-05-03 16:02:31.573420: I tensorflow/core/common_runtime/executor.cc:1197] [/device:CPU:0] (DEBUG INFO) Executor start aborting (this does not indicate an error and you can ignore this message): INVALID_ARGUMENT: You must feed a value for placeholder tensor 'Placeholder/_0' with dtype int32\n",
      "\t [[{{node Placeholder/_0}}]]\n"
     ]
    },
    {
     "name": "stdout",
     "output_type": "stream",
     "text": [
      "40/40 [==============================] - ETA: 0s - loss: 1.5177 - accuracy: 0.3445"
     ]
    },
    {
     "name": "stderr",
     "output_type": "stream",
     "text": [
      "2023-05-03 16:07:46.841191: I tensorflow/core/common_runtime/executor.cc:1197] [/device:CPU:0] (DEBUG INFO) Executor start aborting (this does not indicate an error and you can ignore this message): INVALID_ARGUMENT: You must feed a value for placeholder tensor 'Placeholder/_0' with dtype int32\n",
      "\t [[{{node Placeholder/_0}}]]\n"
     ]
    },
    {
     "name": "stdout",
     "output_type": "stream",
     "text": [
      "40/40 [==============================] - 364s 9s/step - loss: 1.5177 - accuracy: 0.3445 - val_loss: 1.5494 - val_accuracy: 0.3720\n",
      "Epoch 2/20\n",
      "40/40 [==============================] - 361s 9s/step - loss: 1.2732 - accuracy: 0.5003 - val_loss: 1.4991 - val_accuracy: 0.4260\n",
      "Epoch 3/20\n",
      "40/40 [==============================] - 321s 8s/step - loss: 1.1545 - accuracy: 0.5598 - val_loss: 1.4390 - val_accuracy: 0.4600\n",
      "Epoch 4/20\n",
      "40/40 [==============================] - 311s 8s/step - loss: 1.0704 - accuracy: 0.5931 - val_loss: 1.3755 - val_accuracy: 0.4947\n",
      "Epoch 5/20\n",
      "40/40 [==============================] - 408s 10s/step - loss: 1.0121 - accuracy: 0.6143 - val_loss: 1.3020 - val_accuracy: 0.5400\n",
      "Epoch 6/20\n",
      "40/40 [==============================] - 704s 18s/step - loss: 0.9698 - accuracy: 0.6327 - val_loss: 1.2388 - val_accuracy: 0.5513\n",
      "Epoch 7/20\n",
      "40/40 [==============================] - 375s 9s/step - loss: 0.9316 - accuracy: 0.6530 - val_loss: 1.1663 - val_accuracy: 0.5920\n",
      "Epoch 8/20\n",
      "40/40 [==============================] - 357s 9s/step - loss: 0.8993 - accuracy: 0.6683 - val_loss: 1.1062 - val_accuracy: 0.6000\n",
      "Epoch 9/20\n",
      "40/40 [==============================] - 359s 9s/step - loss: 0.8727 - accuracy: 0.6770 - val_loss: 1.0498 - val_accuracy: 0.6233\n",
      "Epoch 10/20\n",
      "40/40 [==============================] - 356s 9s/step - loss: 0.8485 - accuracy: 0.6828 - val_loss: 1.0178 - val_accuracy: 0.6153\n",
      "Epoch 11/20\n",
      "40/40 [==============================] - 357s 9s/step - loss: 0.8339 - accuracy: 0.6910 - val_loss: 0.9789 - val_accuracy: 0.6400\n",
      "Epoch 12/20\n",
      "40/40 [==============================] - 356s 9s/step - loss: 0.8124 - accuracy: 0.6999 - val_loss: 0.9465 - val_accuracy: 0.6453\n",
      "Epoch 13/20\n",
      "40/40 [==============================] - 361s 9s/step - loss: 0.7955 - accuracy: 0.7017 - val_loss: 0.9260 - val_accuracy: 0.6587\n",
      "Epoch 14/20\n",
      "40/40 [==============================] - 482s 12s/step - loss: 0.7806 - accuracy: 0.7158 - val_loss: 0.9146 - val_accuracy: 0.6500\n",
      "Epoch 15/20\n",
      "40/40 [==============================] - 438s 11s/step - loss: 0.7732 - accuracy: 0.7150 - val_loss: 0.8936 - val_accuracy: 0.6580\n",
      "Epoch 16/20\n",
      "40/40 [==============================] - 408s 10s/step - loss: 0.7572 - accuracy: 0.7217 - val_loss: 0.8812 - val_accuracy: 0.6740\n",
      "Epoch 17/20\n",
      "40/40 [==============================] - 473s 12s/step - loss: 0.7425 - accuracy: 0.7276 - val_loss: 0.8908 - val_accuracy: 0.6693\n",
      "Epoch 18/20\n",
      "40/40 [==============================] - 357s 9s/step - loss: 0.7346 - accuracy: 0.7294 - val_loss: 0.8723 - val_accuracy: 0.6720\n",
      "Epoch 19/20\n",
      "40/40 [==============================] - 355s 9s/step - loss: 0.7180 - accuracy: 0.7368 - val_loss: 0.9022 - val_accuracy: 0.6627\n",
      "Epoch 20/20\n",
      "40/40 [==============================] - 359s 9s/step - loss: 0.7169 - accuracy: 0.7364 - val_loss: 0.8706 - val_accuracy: 0.6713\n"
     ]
    }
   ],
   "source": [
    "H = model.fit(\n",
    "    train_data_gen,\n",
    "    validation_data = val_data_gen,\n",
    "    epochs = 20,\n",
    "    callbacks = [early_stop])"
   ]
  },
  {
   "cell_type": "code",
   "execution_count": 49,
   "metadata": {},
   "outputs": [
    {
     "name": "stderr",
     "output_type": "stream",
     "text": [
      "/tmp/ipykernel_25232/3076450021.py:3: MatplotlibDeprecationWarning: The seaborn styles shipped by Matplotlib are deprecated since 3.6, as they no longer correspond to the styles shipped by seaborn. However, they will remain available as 'seaborn-v0_8-<style>'. Alternatively, directly use the seaborn API instead.\n",
      "  plt.style.use(\"seaborn-colorblind\")\n"
     ]
    },
    {
     "data": {
      "image/png": "[encoded data removed]",
      "text/plain": [
       "<Figure size 1200x600 with 2 Axes>"
      ]
     },
     "metadata": {},
     "output_type": "display_data"
    }
   ],
   "source": [
    "plot = plot_history(H, 20)"
   ]
  },
  {
   "cell_type": "code",
   "execution_count": 50,
   "metadata": {},
   "outputs": [
    {
     "name": "stderr",
     "output_type": "stream",
     "text": [
      "2023-05-03 18:14:38.079518: I tensorflow/core/common_runtime/executor.cc:1197] [/device:CPU:0] (DEBUG INFO) Executor start aborting (this does not indicate an error and you can ignore this message): INVALID_ARGUMENT: You must feed a value for placeholder tensor 'Placeholder/_0' with dtype int32\n",
      "\t [[{{node Placeholder/_0}}]]\n"
     ]
    },
    {
     "name": "stdout",
     "output_type": "stream",
     "text": [
      "2/2 [==============================] - 17s 7s/step\n"
     ]
    }
   ],
   "source": [
    "predictions = model.predict(\n",
    "    test_data_gen, \n",
    "    batch_size = batch_size)"
   ]
  },
  {
   "cell_type": "code",
   "execution_count": 51,
   "metadata": {},
   "outputs": [],
   "source": [
    "y_true = test_data_gen.classes"
   ]
  },
  {
   "cell_type": "code",
   "execution_count": 52,
   "metadata": {},
   "outputs": [],
   "source": [
    "y_pred = np.argmax(predictions, axis = 1)"
   ]
  },
  {
   "cell_type": "code",
   "execution_count": 53,
   "metadata": {},
   "outputs": [],
   "source": [
    "class_labels = list(test_data_gen.class_indices.keys())"
   ]
  },
  {
   "cell_type": "code",
   "execution_count": 54,
   "metadata": {},
   "outputs": [],
   "source": [
    "report = classification_report(\n",
    "    y_true, \n",
    "    y_pred, \n",
    "    target_names = class_labels)"
   ]
  },
  {
   "cell_type": "code",
   "execution_count": 55,
   "metadata": {},
   "outputs": [
    {
     "name": "stdout",
     "output_type": "stream",
     "text": [
      "              precision    recall  f1-score   support\n",
      "\n",
      "       Coast       0.78      0.68      0.73       100\n",
      "      Desert       0.75      0.86      0.80       100\n",
      "      Forest       0.88      0.86      0.87       100\n",
      "     Glacier       0.67      0.78      0.72       100\n",
      "    Mountain       0.61      0.52      0.56       100\n",
      "\n",
      "    accuracy                           0.74       500\n",
      "   macro avg       0.74      0.74      0.74       500\n",
      "weighted avg       0.74      0.74      0.74       500\n",
      "\n"
     ]
    }
   ],
   "source": [
    "print(report)"
   ]
  }
 ],
 "metadata": {
  "kernelspec": {
   "display_name": "Python 3",
   "language": "python",
   "name": "python3"
  },
  "language_info": {
   "codemirror_mode": {
    "name": "ipython",
    "version": 3
   },
   "file_extension": ".py",
   "mimetype": "text/x-python",
   "name": "python",
   "nbconvert_exporter": "python",
   "pygments_lexer": "ipython3",
   "version": "3.9.2"
  },
  "orig_nbformat": 4
 },
 "nbformat": 4,
 "nbformat_minor": 2
}
