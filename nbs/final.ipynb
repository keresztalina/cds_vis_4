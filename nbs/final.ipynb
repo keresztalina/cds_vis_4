{
 "cells": [
  {
   "attachments": {},
   "cell_type": "markdown",
   "metadata": {},
   "source": [
    "# LOAD PACKAGES"
   ]
  },
  {
   "cell_type": "code",
   "execution_count": 38,
   "metadata": {},
   "outputs": [],
   "source": [
    "# basic tools\n",
    "import os\n",
    "import pandas as pd\n",
    "import numpy as np\n",
    "\n",
    "# image preprocessing\n",
    "import cv2\n",
    "\n",
    "# tensorflow tools\n",
    "import tensorflow as tf\n",
    "\n",
    "# image processsing\n",
    "from tensorflow.keras.preprocessing.image import (load_img,\n",
    "                                                  img_to_array,\n",
    "                                                  ImageDataGenerator)\n",
    "# VGG16 model\n",
    "from tensorflow.keras.applications.vgg16 import (preprocess_input,\n",
    "                                                 decode_predictions,\n",
    "                                                 VGG16)\n",
    "\n",
    "# layers\n",
    "from tensorflow.keras.layers import (Flatten, \n",
    "                                     Dense, \n",
    "                                     Dropout, \n",
    "                                     BatchNormalization)\n",
    "# generic model object\n",
    "from tensorflow.keras.models import Model\n",
    "\n",
    "# optimizers\n",
    "from tensorflow.keras.optimizers.schedules import ExponentialDecay\n",
    "from tensorflow.keras.optimizers import SGD\n",
    "\n",
    "#scikit-learn\n",
    "from sklearn.preprocessing import LabelBinarizer\n",
    "from sklearn.metrics import classification_report\n",
    "\n",
    "# for plotting\n",
    "import matplotlib.pyplot as plt"
   ]
  },
  {
   "attachments": {},
   "cell_type": "markdown",
   "metadata": {},
   "source": [
    "# FUNCTIONS"
   ]
  },
  {
   "cell_type": "code",
   "execution_count": 39,
   "metadata": {},
   "outputs": [],
   "source": [
    "# courtesy of Ross\n",
    "def plot_history(H, epochs):\n",
    "    plt.style.use(\"seaborn-colorblind\")\n",
    "\n",
    "    plt.figure(figsize=(12,6))\n",
    "    \n",
    "    plt.subplot(1,2,1)\n",
    "    plt.plot(\n",
    "        np.arange(0, epochs), \n",
    "        H.history[\"loss\"], \n",
    "        label = \"train_loss\")\n",
    "    plt.plot(\n",
    "        np.arange(0, epochs), \n",
    "        H.history[\"val_loss\"], \n",
    "        label = \"val_loss\", \n",
    "        linestyle = \":\")\n",
    "    plt.title(\"Loss curve\")\n",
    "    plt.xlabel(\"Epoch\")\n",
    "    plt.ylabel(\"Loss\")\n",
    "    plt.tight_layout()\n",
    "    plt.legend()\n",
    "\n",
    "    plt.subplot(1,2,2)\n",
    "    plt.plot(\n",
    "        np.arange(0, epochs), \n",
    "        H.history[\"accuracy\"], \n",
    "        label = \"train_acc\")\n",
    "    plt.plot(\n",
    "        np.arange(0, epochs), \n",
    "        H.history[\"val_accuracy\"], \n",
    "        label = \"val_acc\", \n",
    "        linestyle = \":\")\n",
    "    plt.title(\"Accuracy curve\")\n",
    "    plt.xlabel(\"Epoch\")\n",
    "    plt.ylabel(\"Accuracy\")\n",
    "    plt.tight_layout()\n",
    "    plt.legend()\n",
    "\n",
    "    plt.show()"
   ]
  },
  {
   "attachments": {},
   "cell_type": "markdown",
   "metadata": {},
   "source": [
    "# CONFIGURE DIRECTORIES"
   ]
  },
  {
   "cell_type": "code",
   "execution_count": 40,
   "metadata": {},
   "outputs": [],
   "source": [
    "# OVERALL LOCATION OF DATA\n",
    "base_dir = os.path.join(\n",
    "    \"..\",\n",
    "    \"..\",\n",
    "    \"data\")\n",
    "\n",
    "# LOCATION OF TEST, TRAIN AND VALIDATION FOLDERS\n",
    "train_dir = os.path.join(\n",
    "    base_dir,\n",
    "    \"train\")\n",
    "val_dir = os.path.join(\n",
    "    base_dir,\n",
    "    \"val\")\n",
    "test_dir = os.path.join(\n",
    "    base_dir,\n",
    "    \"test\")\n",
    "\n",
    "# LOCATION OF CATEGORIES WITHIN TRAIN SPLIT\n",
    "train_coast_dir = os.path.join(\n",
    "    train_dir,\n",
    "    \"Coast\")\n",
    "train_desert_dir = os.path.join(\n",
    "    train_dir,\n",
    "    \"Desert\")\n",
    "train_forest_dir = os.path.join(\n",
    "    train_dir,\n",
    "    \"Forest\")\n",
    "train_glacier_dir = os.path.join(\n",
    "    train_dir,\n",
    "    \"Glacier\")\n",
    "train_mountain_dir = os.path.join(\n",
    "    train_dir,\n",
    "    \"Mountain\")\n",
    "\n",
    "# LOCATION OF CATEGORIES WITHIN VALIDATION SPLIT\n",
    "val_coast_dir = os.path.join(\n",
    "    val_dir,\n",
    "    \"Coast\")\n",
    "val_desert_dir = os.path.join(\n",
    "    val_dir,\n",
    "    \"Desert\")\n",
    "val_forest_dir = os.path.join(\n",
    "    val_dir,\n",
    "    \"Forest\")\n",
    "val_glacier_dir = os.path.join(\n",
    "    val_dir,\n",
    "    \"Glacier\")\n",
    "val_mountain_dir = os.path.join(\n",
    "    val_dir,\n",
    "    \"Mountain\")\n",
    "\n",
    "# LOCATION OF CATEGORIES WITHIN TEST SPLIT\n",
    "test_coast_dir = os.path.join(\n",
    "    test_dir,\n",
    "    \"Coast\")\n",
    "test_desert_dir = os.path.join(\n",
    "    test_dir,\n",
    "    \"Desert\")\n",
    "test_forest_dir = os.path.join(\n",
    "    test_dir,\n",
    "    \"Forest\")\n",
    "test_glacier_dir = os.path.join(\n",
    "    test_dir,\n",
    "    \"Glacier\")\n",
    "test_mountain_dir = os.path.join(\n",
    "    test_dir,\n",
    "    \"Mountain\")"
   ]
  },
  {
   "attachments": {},
   "cell_type": "markdown",
   "metadata": {},
   "source": [
    "# COUNT NUMBER OF IMAGES"
   ]
  },
  {
   "cell_type": "code",
   "execution_count": 41,
   "metadata": {},
   "outputs": [],
   "source": [
    "# IMAGES IN CATEGORIES IN TRAINING SPLIT\n",
    "num_train_coast = len(\n",
    "    os.listdir(\n",
    "        train_coast_dir))\n",
    "num_train_desert = len(\n",
    "    os.listdir(\n",
    "        train_desert_dir))\n",
    "num_train_forest = len(\n",
    "    os.listdir(\n",
    "        train_forest_dir))\n",
    "num_train_glacier = len(\n",
    "    os.listdir(\n",
    "        train_glacier_dir))\n",
    "num_train_mountain = len(\n",
    "    os.listdir(\n",
    "        train_mountain_dir))\n",
    "\n",
    "# IMAGES IN CATEGORIES IN VALIDATION SPLIT\n",
    "num_val_coast = len(\n",
    "    os.listdir(\n",
    "        val_coast_dir))\n",
    "num_val_desert = len(\n",
    "    os.listdir(\n",
    "        val_desert_dir))\n",
    "num_val_forest = len(\n",
    "    os.listdir(\n",
    "        val_forest_dir))\n",
    "num_val_glacier = len(\n",
    "    os.listdir(\n",
    "        val_glacier_dir))\n",
    "num_val_mountain = len(\n",
    "    os.listdir(\n",
    "        val_mountain_dir))\n",
    "\n",
    "# IMAGES IN CATEGORIES IN TEST SPLIT\n",
    "num_test_coast = len(\n",
    "    os.listdir(\n",
    "        test_coast_dir))\n",
    "num_test_desert = len(\n",
    "    os.listdir(\n",
    "        test_desert_dir))\n",
    "num_test_forest = len(\n",
    "    os.listdir(\n",
    "        test_forest_dir))\n",
    "num_test_glacier = len(\n",
    "    os.listdir(\n",
    "        test_glacier_dir))\n",
    "num_test_mountain = len(\n",
    "    os.listdir(\n",
    "        test_mountain_dir))\n",
    "\n",
    "num_train = num_train_coast + num_train_desert + num_train_forest + num_train_glacier + num_train_mountain\n",
    "num_val = num_val_coast + num_val_desert + num_val_forest + num_val_glacier + num_val_mountain\n",
    "num_test = num_test_coast + num_test_desert + num_test_forest + num_test_glacier + num_test_mountain\n",
    "\n",
    "num_total = num_train + num_val + num_test"
   ]
  },
  {
   "cell_type": "code",
   "execution_count": 42,
   "metadata": {},
   "outputs": [
    {
     "name": "stdout",
     "output_type": "stream",
     "text": [
      "TOTAL IMAGES: 12000\n",
      "...\n",
      "TOTAL TRAIN: 10000\n",
      "Coast: 2000\n",
      "Desert: 2000\n",
      "Forest: 2000\n",
      "Glacier: 2000\n",
      "Mountain: 2000\n",
      "...\n",
      "TOTAL VALIDATION: 1500\n",
      "Coast: 300\n",
      "Desert: 300\n",
      "Forest: 300\n",
      "Glacier: 300\n",
      "Mountain: 300\n",
      "...\n",
      "TOTAL TEST: 500\n",
      "Coast: 100\n",
      "Desert: 100\n",
      "Forest: 100\n",
      "Glacier: 100\n",
      "Mountain: 100\n"
     ]
    }
   ],
   "source": [
    "print(\"TOTAL IMAGES:\", num_total)\n",
    "print(\"...\")\n",
    "print(\"TOTAL TRAIN:\", num_train)\n",
    "print(\"Coast:\", num_train_coast)\n",
    "print(\"Desert:\", num_train_desert)\n",
    "print(\"Forest:\", num_train_forest)\n",
    "print(\"Glacier:\", num_train_glacier)\n",
    "print(\"Mountain:\", num_train_mountain)\n",
    "print(\"...\")\n",
    "print(\"TOTAL VALIDATION:\", num_val)\n",
    "print(\"Coast:\", num_val_coast)\n",
    "print(\"Desert:\", num_val_desert)\n",
    "print(\"Forest:\", num_val_forest)\n",
    "print(\"Glacier:\", num_val_glacier)\n",
    "print(\"Mountain:\", num_val_mountain)\n",
    "print(\"...\")\n",
    "print(\"TOTAL TEST:\", num_test)\n",
    "print(\"Coast:\", num_test_coast)\n",
    "print(\"Desert:\", num_test_desert)\n",
    "print(\"Forest:\", num_test_forest)\n",
    "print(\"Glacier:\", num_test_glacier)\n",
    "print(\"Mountain:\", num_test_mountain)\n"
   ]
  },
  {
   "attachments": {},
   "cell_type": "markdown",
   "metadata": {},
   "source": [
    "# IMAGE PREPROCESSING"
   ]
  },
  {
   "cell_type": "code",
   "execution_count": 43,
   "metadata": {},
   "outputs": [],
   "source": [
    "# SOME NECESSARY VARIABLES\n",
    "IMG_SHAPE = 224\n",
    "batch_size = 128"
   ]
  },
  {
   "cell_type": "code",
   "execution_count": 44,
   "metadata": {},
   "outputs": [],
   "source": [
    "# DEFINE DATA GENERATOR\n",
    "# Normalize image values.\n",
    "# Allow for horizontal flipping and rotation (data augmentation).\n",
    "datagen = ImageDataGenerator(\n",
    "    rescale = 1./255, \n",
    "    horizontal_flip = True, \n",
    "    rotation_range = 20,\n",
    "    preprocessing_function = lambda x: tf.image.resize(\n",
    "        x, \n",
    "        (IMG_SHAPE, IMG_SHAPE)))"
   ]
  },
  {
   "cell_type": "code",
   "execution_count": 45,
   "metadata": {},
   "outputs": [
    {
     "name": "stdout",
     "output_type": "stream",
     "text": [
      "Found 10000 images belonging to 5 classes.\n"
     ]
    }
   ],
   "source": [
    "# TRAINING - FLOW FROM FOLDER\n",
    "train_data_gen = datagen.flow_from_directory(\n",
    "    directory = train_dir,\n",
    "    batch_size = batch_size,\n",
    "    target_size = (IMG_SHAPE, IMG_SHAPE),\n",
    "    shuffle = True,\n",
    "    class_mode = 'categorical')"
   ]
  },
  {
   "cell_type": "code",
   "execution_count": 46,
   "metadata": {},
   "outputs": [
    {
     "name": "stdout",
     "output_type": "stream",
     "text": [
      "Found 1500 images belonging to 5 classes.\n"
     ]
    }
   ],
   "source": [
    "# VALIDATION - FLOW FROM FOLDER\n",
    "val_data_gen = datagen.flow_from_directory(\n",
    "    directory = val_dir,\n",
    "    batch_size = batch_size,\n",
    "    target_size = (IMG_SHAPE, IMG_SHAPE),\n",
    "    shuffle = True,\n",
    "    class_mode = 'categorical')"
   ]
  },
  {
   "cell_type": "code",
   "execution_count": 61,
   "metadata": {},
   "outputs": [
    {
     "name": "stdout",
     "output_type": "stream",
     "text": [
      "Found 500 images belonging to 5 classes.\n"
     ]
    }
   ],
   "source": [
    "# TEST - FLOW FROM FOLDER\n",
    "test_data_gen = datagen.flow_from_directory(\n",
    "    directory = test_dir,\n",
    "    batch_size = batch_size,\n",
    "    target_size = (IMG_SHAPE, IMG_SHAPE),\n",
    "    shuffle = False,\n",
    "    class_mode = 'categorical')"
   ]
  },
  {
   "attachments": {},
   "cell_type": "markdown",
   "metadata": {},
   "source": [
    "# LOAD MODEL"
   ]
  },
  {
   "cell_type": "code",
   "execution_count": 48,
   "metadata": {},
   "outputs": [],
   "source": [
    "# load model without classifier layers\n",
    "model = VGG16(\n",
    "    include_top = False, \n",
    "    pooling = 'avg',\n",
    "    input_shape = (224, 224, 3))"
   ]
  },
  {
   "cell_type": "code",
   "execution_count": 49,
   "metadata": {},
   "outputs": [],
   "source": [
    "# mark loaded layers as not trainable\n",
    "for layer in model.layers:\n",
    "    layer.trainable = False"
   ]
  },
  {
   "cell_type": "code",
   "execution_count": 50,
   "metadata": {},
   "outputs": [],
   "source": [
    "# add new classifier layers\n",
    "flat1 = Flatten()(model.layers[-1].output)\n",
    "bn = BatchNormalization()(flat1)\n",
    "class1 = Dense(\n",
    "    256, \n",
    "    activation = 'relu')(bn)\n",
    "class2 = Dense(\n",
    "    128, \n",
    "    activation = 'relu')(class1)\n",
    "output = Dense(\n",
    "    5, \n",
    "    activation = 'softmax')(class2)"
   ]
  },
  {
   "cell_type": "code",
   "execution_count": 51,
   "metadata": {},
   "outputs": [],
   "source": [
    "# define new model\n",
    "model = Model(\n",
    "    inputs = model.inputs, \n",
    "    outputs = output)"
   ]
  },
  {
   "cell_type": "code",
   "execution_count": 52,
   "metadata": {},
   "outputs": [],
   "source": [
    "# configure learning rate\n",
    "lr_schedule = tf.keras.optimizers.schedules.ExponentialDecay(\n",
    "    initial_learning_rate = 0.01,\n",
    "    decay_steps = 10000,\n",
    "    decay_rate = 0.9)\n",
    "sgd = SGD(learning_rate = lr_schedule)"
   ]
  },
  {
   "cell_type": "code",
   "execution_count": 53,
   "metadata": {},
   "outputs": [],
   "source": [
    "# compile model\n",
    "model.compile(\n",
    "    optimizer = sgd,\n",
    "    loss = 'categorical_crossentropy',\n",
    "    metrics = ['accuracy'])"
   ]
  },
  {
   "cell_type": "code",
   "execution_count": 54,
   "metadata": {},
   "outputs": [
    {
     "name": "stdout",
     "output_type": "stream",
     "text": [
      "Model: \"model_1\"\n",
      "_________________________________________________________________\n",
      " Layer (type)                Output Shape              Param #   \n",
      "=================================================================\n",
      " input_2 (InputLayer)        [(None, 224, 224, 3)]     0         \n",
      "                                                                 \n",
      " block1_conv1 (Conv2D)       (None, 224, 224, 64)      1792      \n",
      "                                                                 \n",
      " block1_conv2 (Conv2D)       (None, 224, 224, 64)      36928     \n",
      "                                                                 \n",
      " block1_pool (MaxPooling2D)  (None, 112, 112, 64)      0         \n",
      "                                                                 \n",
      " block2_conv1 (Conv2D)       (None, 112, 112, 128)     73856     \n",
      "                                                                 \n",
      " block2_conv2 (Conv2D)       (None, 112, 112, 128)     147584    \n",
      "                                                                 \n",
      " block2_pool (MaxPooling2D)  (None, 56, 56, 128)       0         \n",
      "                                                                 \n",
      " block3_conv1 (Conv2D)       (None, 56, 56, 256)       295168    \n",
      "                                                                 \n",
      " block3_conv2 (Conv2D)       (None, 56, 56, 256)       590080    \n",
      "                                                                 \n",
      " block3_conv3 (Conv2D)       (None, 56, 56, 256)       590080    \n",
      "                                                                 \n",
      " block3_pool (MaxPooling2D)  (None, 28, 28, 256)       0         \n",
      "                                                                 \n",
      " block4_conv1 (Conv2D)       (None, 28, 28, 512)       1180160   \n",
      "                                                                 \n",
      " block4_conv2 (Conv2D)       (None, 28, 28, 512)       2359808   \n",
      "                                                                 \n",
      " block4_conv3 (Conv2D)       (None, 28, 28, 512)       2359808   \n",
      "                                                                 \n",
      " block4_pool (MaxPooling2D)  (None, 14, 14, 512)       0         \n",
      "                                                                 \n",
      " block5_conv1 (Conv2D)       (None, 14, 14, 512)       2359808   \n",
      "                                                                 \n",
      " block5_conv2 (Conv2D)       (None, 14, 14, 512)       2359808   \n",
      "                                                                 \n",
      " block5_conv3 (Conv2D)       (None, 14, 14, 512)       2359808   \n",
      "                                                                 \n",
      " block5_pool (MaxPooling2D)  (None, 7, 7, 512)         0         \n",
      "                                                                 \n",
      " global_average_pooling2d_1   (None, 512)              0         \n",
      " (GlobalAveragePooling2D)                                        \n",
      "                                                                 \n",
      " flatten_1 (Flatten)         (None, 512)               0         \n",
      "                                                                 \n",
      " batch_normalization_1 (Batc  (None, 512)              2048      \n",
      " hNormalization)                                                 \n",
      "                                                                 \n",
      " dense_3 (Dense)             (None, 256)               131328    \n",
      "                                                                 \n",
      " dense_4 (Dense)             (None, 128)               32896     \n",
      "                                                                 \n",
      " dense_5 (Dense)             (None, 5)                 645       \n",
      "                                                                 \n",
      "=================================================================\n",
      "Total params: 14,881,605\n",
      "Trainable params: 165,893\n",
      "Non-trainable params: 14,715,712\n",
      "_________________________________________________________________\n"
     ]
    }
   ],
   "source": [
    "# summarize\n",
    "model.summary()"
   ]
  },
  {
   "cell_type": "code",
   "execution_count": 55,
   "metadata": {},
   "outputs": [
    {
     "name": "stdout",
     "output_type": "stream",
     "text": [
      "Epoch 1/10\n"
     ]
    },
    {
     "name": "stderr",
     "output_type": "stream",
     "text": [
      "2023-05-01 17:16:21.646626: I tensorflow/core/common_runtime/executor.cc:1197] [/device:CPU:0] (DEBUG INFO) Executor start aborting (this does not indicate an error and you can ignore this message): INVALID_ARGUMENT: You must feed a value for placeholder tensor 'Placeholder/_0' with dtype int32\n",
      "\t [[{{node Placeholder/_0}}]]\n"
     ]
    },
    {
     "name": "stdout",
     "output_type": "stream",
     "text": [
      "79/79 [==============================] - ETA: 0s - loss: 1.3559 - accuracy: 0.4403"
     ]
    },
    {
     "name": "stderr",
     "output_type": "stream",
     "text": [
      "2023-05-01 17:28:04.010229: I tensorflow/core/common_runtime/executor.cc:1197] [/device:CPU:0] (DEBUG INFO) Executor start aborting (this does not indicate an error and you can ignore this message): INVALID_ARGUMENT: You must feed a value for placeholder tensor 'Placeholder/_0' with dtype int32\n",
      "\t [[{{node Placeholder/_0}}]]\n"
     ]
    },
    {
     "name": "stdout",
     "output_type": "stream",
     "text": [
      "79/79 [==============================] - 807s 10s/step - loss: 1.3559 - accuracy: 0.4403 - val_loss: 1.5235 - val_accuracy: 0.3020\n",
      "Epoch 2/10\n",
      "79/79 [==============================] - 363s 5s/step - loss: 1.0786 - accuracy: 0.5921 - val_loss: 1.3755 - val_accuracy: 0.4673\n",
      "Epoch 3/10\n",
      "79/79 [==============================] - 365s 5s/step - loss: 0.9696 - accuracy: 0.6356 - val_loss: 1.2130 - val_accuracy: 0.5953\n",
      "Epoch 4/10\n",
      "79/79 [==============================] - 408s 5s/step - loss: 0.8977 - accuracy: 0.6693 - val_loss: 1.0897 - val_accuracy: 0.6167\n",
      "Epoch 5/10\n",
      "79/79 [==============================] - 728s 9s/step - loss: 0.8466 - accuracy: 0.6900 - val_loss: 1.0144 - val_accuracy: 0.6273\n",
      "Epoch 6/10\n",
      "79/79 [==============================] - 359s 5s/step - loss: 0.8099 - accuracy: 0.7071 - val_loss: 0.9423 - val_accuracy: 0.6553\n",
      "Epoch 7/10\n",
      "79/79 [==============================] - 359s 5s/step - loss: 0.7713 - accuracy: 0.7177 - val_loss: 0.9143 - val_accuracy: 0.6587\n",
      "Epoch 8/10\n",
      "79/79 [==============================] - 364s 5s/step - loss: 0.7542 - accuracy: 0.7284 - val_loss: 0.8932 - val_accuracy: 0.6667\n",
      "Epoch 9/10\n",
      "79/79 [==============================] - 520s 7s/step - loss: 0.7325 - accuracy: 0.7330 - val_loss: 0.8906 - val_accuracy: 0.6773\n",
      "Epoch 10/10\n",
      "79/79 [==============================] - 363s 5s/step - loss: 0.7098 - accuracy: 0.7417 - val_loss: 0.8721 - val_accuracy: 0.6833\n"
     ]
    }
   ],
   "source": [
    "H = model.fit(\n",
    "    train_data_gen,\n",
    "    validation_data = val_data_gen,\n",
    "    epochs = 10)"
   ]
  },
  {
   "cell_type": "code",
   "execution_count": 56,
   "metadata": {},
   "outputs": [
    {
     "name": "stderr",
     "output_type": "stream",
     "text": [
      "/tmp/ipykernel_1543/3076450021.py:3: MatplotlibDeprecationWarning: The seaborn styles shipped by Matplotlib are deprecated since 3.6, as they no longer correspond to the styles shipped by seaborn. However, they will remain available as 'seaborn-v0_8-<style>'. Alternatively, directly use the seaborn API instead.\n",
      "  plt.style.use(\"seaborn-colorblind\")\n"
     ]
    },
    {
     "data": {
      "image/png": "[encoded data removed]",
      "text/plain": [
       "<Figure size 1200x600 with 2 Axes>"
      ]
     },
     "metadata": {},
     "output_type": "display_data"
    }
   ],
   "source": [
    "plot = plot_history(H, 10)"
   ]
  },
  {
   "cell_type": "code",
   "execution_count": 62,
   "metadata": {},
   "outputs": [
    {
     "name": "stderr",
     "output_type": "stream",
     "text": [
      "2023-05-01 18:43:21.660730: I tensorflow/core/common_runtime/executor.cc:1197] [/device:CPU:0] (DEBUG INFO) Executor start aborting (this does not indicate an error and you can ignore this message): INVALID_ARGUMENT: You must feed a value for placeholder tensor 'Placeholder/_0' with dtype int32\n",
      "\t [[{{node Placeholder/_0}}]]\n"
     ]
    },
    {
     "name": "stdout",
     "output_type": "stream",
     "text": [
      "4/4 [==============================] - 16s 4s/step\n"
     ]
    }
   ],
   "source": [
    "predictions = model.predict(\n",
    "    test_data_gen, \n",
    "    batch_size = batch_size)"
   ]
  },
  {
   "cell_type": "code",
   "execution_count": 63,
   "metadata": {},
   "outputs": [],
   "source": [
    "y_true = test_data_gen.classes"
   ]
  },
  {
   "cell_type": "code",
   "execution_count": 66,
   "metadata": {},
   "outputs": [],
   "source": [
    "y_pred = np.argmax(predictions, axis = 1)"
   ]
  },
  {
   "cell_type": "code",
   "execution_count": 67,
   "metadata": {},
   "outputs": [],
   "source": [
    "class_labels = list(test_data_gen.class_indices.keys())"
   ]
  },
  {
   "cell_type": "code",
   "execution_count": 68,
   "metadata": {},
   "outputs": [],
   "source": [
    "report = classification_report(\n",
    "    y_true, \n",
    "    y_pred, \n",
    "    target_names = class_labels)"
   ]
  },
  {
   "cell_type": "code",
   "execution_count": 70,
   "metadata": {},
   "outputs": [
    {
     "name": "stdout",
     "output_type": "stream",
     "text": [
      "              precision    recall  f1-score   support\n",
      "\n",
      "       Coast       0.76      0.73      0.74       100\n",
      "      Desert       0.79      0.81      0.80       100\n",
      "      Forest       0.88      0.85      0.86       100\n",
      "     Glacier       0.69      0.81      0.74       100\n",
      "    Mountain       0.60      0.52      0.56       100\n",
      "\n",
      "    accuracy                           0.74       500\n",
      "   macro avg       0.74      0.74      0.74       500\n",
      "weighted avg       0.74      0.74      0.74       500\n",
      "\n"
     ]
    }
   ],
   "source": [
    "print(report)"
   ]
  }
 ],
 "metadata": {
  "kernelspec": {
   "display_name": "Python 3",
   "language": "python",
   "name": "python3"
  },
  "language_info": {
   "codemirror_mode": {
    "name": "ipython",
    "version": 3
   },
   "file_extension": ".py",
   "mimetype": "text/x-python",
   "name": "python",
   "nbconvert_exporter": "python",
   "pygments_lexer": "ipython3",
   "version": "3.9.2"
  },
  "orig_nbformat": 4
 },
 "nbformat": 4,
 "nbformat_minor": 2
}
